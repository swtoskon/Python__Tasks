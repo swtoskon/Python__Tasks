{
 "cells": [
  {
   "cell_type": "code",
   "execution_count": 120,
   "metadata": {},
   "outputs": [],
   "source": [
    "import requests\n",
    "from termcolor import colored\n",
    "USERNAME = 'swtoskon2'\n",
    "API_KEY = '44d4a701d1c5449589d99bf67bd6fd9e'\n",
    "base_url = 'https://api.sketchengine.eu/bonito/run.cgi'"
   ]
  },
  {
   "cell_type": "code",
   "execution_count": 121,
   "metadata": {},
   "outputs": [],
   "source": [
    "data = {\n",
    "'corpname': 'preloaded/brexit_1',\n",
    "'format ': 'json ',\n",
    "   'lemma':'brexit'\n",
    "   }"
   ]
  },
  {
   "cell_type": "code",
   "execution_count": 122,
   "metadata": {},
   "outputs": [],
   "source": [
    "d = requests.get(base_url + '/wsketch', params=data, auth=(USERNAME, API_KEY)).json()"
   ]
  },
  {
   "cell_type": "code",
   "execution_count": 123,
   "metadata": {},
   "outputs": [],
   "source": [
    "lst = dict()\n",
    "lst2 = dict()\n",
    "lst3=dict()\n",
    "lst4=dict()\n",
    "list_noun_or_verb_modif=[]\n",
    "list_verb=[]"
   ]
  },
  {
   "cell_type": "code",
   "execution_count": 124,
   "metadata": {},
   "outputs": [],
   "source": [
    "for itn in d['Gramrels']:\n",
    "    if  itn['name']=='nouns and verbs modified by \"%w\"' or  itn['name']=='modifiers of \"%w\"':\n",
    "        for w in itn['Words']:\n",
    "            if w['lempos'].endswith('-n') or w['lempos'].endswith('-v'):\n",
    "                lst[w['word']] = w['count']\n",
    "                lst2[w['word']] = w['score']\n",
    "                list_noun_or_verb_modif.append((w['word'],w['count'],w['score']))\n",
    "    if  itn['name']=='verbs with \"%w\" as object' or itn['name']=='verbs with particle \"off\" and \"%w\" as object' or itn['name']=='verbs with particle \"out\" and \"%w\" as object':\n",
    "        for w in itn['Words']:\n",
    "            if w['lempos'].endswith('-v'):\n",
    "                lst3[w['word']] = w['count']\n",
    "                lst4[w['word']] = w['score']\n",
    "                list_verb.append((w['word'],w['count'],w['score']))"
   ]
  },
  {
   "cell_type": "code",
   "execution_count": 125,
   "metadata": {},
   "outputs": [
    {
     "name": "stdout",
     "output_type": "stream",
     "text": [
      "\u001b[31mNOUNS AND VERBS MODIFIED BY BREXIT: \u001b[0m\n",
      "('backs', 358, 9.86)\n",
      "('mistake', 312, 9.67)\n",
      "('reason', 306, 9.56)\n",
      "('honesty', 265, 9.44)\n",
      "('school', 282, 9.38)\n",
      "('vote', 341, 9.29)\n",
      "('hurley', 188, 8.96)\n",
      "('liz', 188, 8.95)\n",
      "('pound', 249, 8.85)\n",
      "('my', 141, 8.52)\n",
      "('trump', 148, 8.46)\n",
      "('post', 144, 8.46)\n",
      "('billion', 129, 8.41)\n",
      "('back', 237, 8.3)\n",
      "('paper', 97, 7.98)\n",
      "('economist', 99, 7.76)\n",
      "('generation', 86, 7.75)\n",
      "('issue', 83, 7.72)\n",
      "('backing', 79, 7.72)\n",
      "('holland', 76, 7.66)\n",
      "('no', 73, 7.59)\n",
      "('vote', 10325, 10.79)\n",
      "('referendum', 8563, 10.43)\n",
      "('camp', 4937, 10.24)\n",
      "('movement', 3875, 10.03)\n",
      "('dividend', 2636, 9.89)\n",
      "('campaign', 7652, 9.75)\n",
      "('britain', 2792, 9.63)\n",
      "('wing', 1870, 9.44)\n",
      "('barnes', 2014, 9.42)\n",
      "('tide', 1619, 9.24)\n",
      "('fear', 1771, 8.91)\n",
      "('campaigner', 1123, 8.67)\n",
      "('cake', 1080, 8.67)\n",
      "('debate', 2040, 8.62)\n",
      "('supporter', 979, 8.47)\n",
      "('poll', 1495, 7.92)\n",
      "('crash', 585, 7.76)\n",
      "('churchill', 610, 7.67)\n",
      "('coverage', 597, 7.62)\n",
      "('hit', 484, 7.5)\n",
      "('panel', 585, 7.48)\n",
      "('threat', 499, 7.33)\n",
      "('risk', 425, 7.26)\n",
      "('hero', 349, 7.04)\n",
      "('doom', 342, 7.02)\n"
     ]
    }
   ],
   "source": [
    "print(colored(\"NOUNS AND VERBS MODIFIED BY BREXIT: \",'red'))\n",
    "for e in (list_noun_or_verb_modif):\n",
    "    print(e)\n"
   ]
  },
  {
   "cell_type": "code",
   "execution_count": 126,
   "metadata": {},
   "outputs": [
    {
     "name": "stdout",
     "output_type": "stream",
     "text": [
      "\u001b[31mVERBS WITH BREXIT AS OBJECT: \u001b[0m\n",
      "('say', 22190, 11.7)\n",
      "('back', 3089, 10.34)\n",
      "('vote', 1442, 9.89)\n",
      "('warn', 1225, 9.84)\n",
      "('anticipate', 901, 9.51)\n",
      "('support', 1005, 9.34)\n",
      "('spell', 427, 8.45)\n",
      "('think', 457, 8.3)\n",
      "('weather', 285, 7.87)\n",
      "('want', 325, 7.4)\n",
      "('choose', 412, 7.32)\n",
      "('follow', 283, 7.29)\n",
      "('understand', 201, 7.15)\n",
      "('avoid', 152, 6.93)\n",
      "('stop', 169, 6.88)\n",
      "('admit', 131, 6.67)\n",
      "('reject', 128, 6.67)\n",
      "('fear', 141, 6.65)\n",
      "('let', 127, 6.63)\n",
      "('survive', 134, 6.44)\n",
      "('price', 105, 6.43)\n",
      "('talk', 96, 6.28)\n",
      "('endorse', 95, 6.27)\n",
      "('claim', 95, 6.22)\n",
      "('oppose', 92, 6.15)\n",
      "('shrug', 8, 11.17)\n",
      "('work', 12, 11.47)\n"
     ]
    }
   ],
   "source": [
    "print(colored(\"VERBS WITH BREXIT AS OBJECT: \",'red'))\n",
    "for e in (list_verb):\n",
    "    print(e)"
   ]
  },
  {
   "cell_type": "code",
   "execution_count": 127,
   "metadata": {},
   "outputs": [
    {
     "name": "stdout",
     "output_type": "stream",
     "text": [
      "The most frequent noun or verb modified by brexit is vote and has frequency 10325\n"
     ]
    }
   ],
   "source": [
    "Keymax = max(lst, key=lst.get) \n",
    "print(\"The most frequent noun or verb modified by brexit is \" + Keymax + \" \" + \"and has frequency \" +str(lst[Keymax]))"
   ]
  },
  {
   "cell_type": "code",
   "execution_count": 128,
   "metadata": {},
   "outputs": [
    {
     "name": "stdout",
     "output_type": "stream",
     "text": [
      "vote has the bigger LogDice value :10.79\n"
     ]
    }
   ],
   "source": [
    "Keymax2 = max(lst2, key=lst.get) \n",
    "print(Keymax2 + \" has the bigger LogDice value :\"+  str(lst2[Keymax2]))"
   ]
  },
  {
   "cell_type": "code",
   "execution_count": 129,
   "metadata": {},
   "outputs": [
    {
     "name": "stdout",
     "output_type": "stream",
     "text": [
      "The most frequent verb with brexit as object is: say and has frequency 22190\n"
     ]
    }
   ],
   "source": [
    "Keymax3 = max(lst3, key=lst3.get) \n",
    "print(\"The most frequent verb with brexit as object is: \" + Keymax3 + \" \" + \"and has frequency \" +str(lst3[Keymax3]))   "
   ]
  },
  {
   "cell_type": "code",
   "execution_count": 130,
   "metadata": {},
   "outputs": [
    {
     "name": "stdout",
     "output_type": "stream",
     "text": [
      "say has the bigger LogDice value :11.7\n"
     ]
    }
   ],
   "source": [
    "Keymax4 = max(lst4, key=lst4.get) \n",
    "print(Keymax4 + \" has the bigger LogDice value :\"+  str(lst4[Keymax4]))\n"
   ]
  },
  {
   "cell_type": "code",
   "execution_count": null,
   "metadata": {},
   "outputs": [],
   "source": []
  }
 ],
 "metadata": {
  "kernelspec": {
   "display_name": "Python 3",
   "language": "python",
   "name": "python3"
  },
  "language_info": {
   "codemirror_mode": {
    "name": "ipython",
    "version": 3
   },
   "file_extension": ".py",
   "mimetype": "text/x-python",
   "name": "python",
   "nbconvert_exporter": "python",
   "pygments_lexer": "ipython3",
   "version": "3.7.4"
  }
 },
 "nbformat": 4,
 "nbformat_minor": 2
}
