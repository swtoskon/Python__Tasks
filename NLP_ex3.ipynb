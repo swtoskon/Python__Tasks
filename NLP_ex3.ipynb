{
 "cells": [
  {
   "cell_type": "code",
   "execution_count": 10,
   "metadata": {},
   "outputs": [],
   "source": [
    "from textblob import TextBlob\n",
    "from sklearn.metrics import *\n",
    "import csv\n",
    "import  matplotlib.pyplot as plt\n",
    "import numpy as np"
   ]
  },
  {
   "cell_type": "code",
   "execution_count": 11,
   "metadata": {},
   "outputs": [],
   "source": [
    "blob =[]\n",
    "labels=[]\n",
    "with open(\"/Users/swtoskon/Downloads/twitter-2016test-A-clean.tsv\") as fd :\n",
    "    next(fd)\n",
    "    rd = csv.reader(fd, delimiter=\"\\t\", quotechar='\"')\n",
    "    for row in rd:\n",
    "        blob.append(TextBlob(row[2]))\n",
    "        if row[1]=='positive':\n",
    "            labels.append(1)\n",
    "        elif row[1]=='neutral':\n",
    "            labels.append(0)\n",
    "        elif row[1]=='negative':\n",
    "            labels.append(-1)"
   ]
  },
  {
   "cell_type": "code",
   "execution_count": 12,
   "metadata": {},
   "outputs": [],
   "source": [
    "pred=[]\n",
    "x=-0.75\n",
    "y=0.25\n",
    "for b in blob:\n",
    "    if b.sentiment.polarity>y:\n",
    "        pred.append(1)\n",
    "    elif b.sentiment.polarity<x:\n",
    "        pred.append(-1)\n",
    "    elif b.sentiment.polarity>=x and b.sentiment.polarity<=y:\n",
    "        pred.append(0)"
   ]
  },
  {
   "cell_type": "code",
   "execution_count": 13,
   "metadata": {},
   "outputs": [
    {
     "name": "stdout",
     "output_type": "stream",
     "text": [
      "Accuracy is 0.5753625966391924\n"
     ]
    }
   ],
   "source": [
    "ac = accuracy_score(labels,pred)\n",
    "print(\"Accuracy is \" + str(ac))"
   ]
  },
  {
   "cell_type": "code",
   "execution_count": 14,
   "metadata": {},
   "outputs": [
    {
     "name": "stdout",
     "output_type": "stream",
     "text": [
      "Precision is [0.63636364 0.56431642 0.6064945 ]\n",
      "recall is [0.03030303 0.83722414 0.43111596]\n",
      "f-score is [0.05785124 0.67420001 0.50398385]\n",
      "Confusion matrix : \n",
      "[[  70 1951  289]\n",
      " [  26 6563 1250]\n",
      " [  14 3116 2372]]\n"
     ]
    }
   ],
   "source": [
    "precision=precision_score(labels, pred, average=None)\n",
    "print(\"Precision is \" + str(precision))\n",
    "recall = recall_score(labels, pred, average=None)\n",
    "print(\"recall is \" + str(recall)) \n",
    "f1=f1_score(labels, pred, average=None)\n",
    "print(\"f-score is \" + str(f1))\n",
    "confusion_matrix = confusion_matrix(labels,pred)\n",
    "print(\"Confusion matrix : \\n\" + str(confusion_matrix))"
   ]
  },
  {
   "cell_type": "code",
   "execution_count": 16,
   "metadata": {},
   "outputs": [
    {
     "data": {
      "text/plain": [
       "<matplotlib.axes._subplots.AxesSubplot at 0x1a15c69510>"
      ]
     },
     "execution_count": 16,
     "metadata": {},
     "output_type": "execute_result"
    },
    {
     "data": {
      "image/png": "[encoded data removed]",
      "text/plain": [
       "<Figure size 432x288 with 2 Axes>"
      ]
     },
     "metadata": {
      "needs_background": "light"
     },
     "output_type": "display_data"
    }
   ],
   "source": [
    "import seaborn as sns\n",
    "import pandas as pd\n",
    "df_cm = pd.DataFrame(confusion_matrix, columns=np.unique(['negative', 'neutral','positive']), index = np.unique(['negative', 'neutral','positive']))\n",
    "df_cm.index.name = 'Actual'\n",
    "df_cm.columns.name = 'Predicted'\n",
    "sns.heatmap(df_cm,annot=True,cmap='Blues', fmt='g')\n"
   ]
  },
  {
   "cell_type": "code",
   "execution_count": null,
   "metadata": {},
   "outputs": [],
   "source": []
  }
 ],
 "metadata": {
  "kernelspec": {
   "display_name": "Python 3",
   "language": "python",
   "name": "python3"
  },
  "language_info": {
   "codemirror_mode": {
    "name": "ipython",
    "version": 3
   },
   "file_extension": ".py",
   "mimetype": "text/x-python",
   "name": "python",
   "nbconvert_exporter": "python",
   "pygments_lexer": "ipython3",
   "version": "3.7.4"
  }
 },
 "nbformat": 4,
 "nbformat_minor": 2
}
