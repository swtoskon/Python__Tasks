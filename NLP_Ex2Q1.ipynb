{
 "cells": [
  {
   "cell_type": "markdown",
   "metadata": {},
   "source": [
    "# QUESTION 1"
   ]
  },
  {
   "cell_type": "code",
   "execution_count": 1,
   "metadata": {},
   "outputs": [],
   "source": [
    "import requests\n",
    "USERNAME = 'swtoskon'\n",
    "API_KEY = '86aabf91fd804a4184770a02926190a7'\n",
    "base_url = 'https://api.sketchengine.eu/bonito/run.cgi'"
   ]
  },
  {
   "cell_type": "code",
   "execution_count": 2,
   "metadata": {},
   "outputs": [],
   "source": [
    "data={\n",
    "'corpname': 'preloaded/brexit_1', \n",
    "'format ': 'json ',\n",
    "'q' :'q[(tag =\"MD\") & (lemma=\"can|may|must|shall|will|could|might|should|would\") ]',\n",
    "'fcrit' :'lemma/i 0~0>0'\n",
    "}"
   ]
  },
  {
   "cell_type": "code",
   "execution_count": 3,
   "metadata": {},
   "outputs": [],
   "source": [
    "d = requests.get(base_url + '/freqs', params=data, auth=(USERNAME, API_KEY)).json() "
   ]
  },
  {
   "cell_type": "code",
   "execution_count": 4,
   "metadata": {},
   "outputs": [],
   "source": [
    "aDict = {'can':0,'may':0, 'must':0,'shall':0,'will':0,'could':0,'might':0,'should':0,'would':0}"
   ]
  },
  {
   "cell_type": "code",
   "execution_count": 5,
   "metadata": {},
   "outputs": [],
   "source": [
    "for w in d['Blocks'][0]['Items']:\n",
    "          aDict[w['Word'][0]['n']] = w['freq']"
   ]
  },
  {
   "cell_type": "code",
   "execution_count": 6,
   "metadata": {},
   "outputs": [
    {
     "name": "stdout",
     "output_type": "stream",
     "text": [
      "'can':352115\n",
      "'may':107654\n",
      "'must':77161\n",
      "'shall':10373\n",
      "'will':462891\n",
      "'could':237027\n",
      "'might':35467\n",
      "'should':61339\n",
      "'would':572880\n"
     ]
    }
   ],
   "source": [
    "for value in aDict:\n",
    "    print(\"'\"+value +\"'\" \":\" + str(aDict[value]))\n",
    "  "
   ]
  },
  {
   "cell_type": "code",
   "execution_count": null,
   "metadata": {},
   "outputs": [],
   "source": []
  }
 ],
 "metadata": {
  "kernelspec": {
   "display_name": "Python 3",
   "language": "python",
   "name": "python3"
  },
  "language_info": {
   "codemirror_mode": {
    "name": "ipython",
    "version": 3
   },
   "file_extension": ".py",
   "mimetype": "text/x-python",
   "name": "python",
   "nbconvert_exporter": "python",
   "pygments_lexer": "ipython3",
   "version": "3.7.4"
  }
 },
 "nbformat": 4,
 "nbformat_minor": 2
}
